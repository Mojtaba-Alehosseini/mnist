{
  "nbformat": 4,
  "nbformat_minor": 0,
  "metadata": {
    "colab": {
      "provenance": []
    },
    "kernelspec": {
      "name": "python3",
      "display_name": "Python 3"
    }
  },
  "cells": [
    {
      "cell_type": "code",
      "metadata": {
        "id": "pGHkVlnegQi0",
        "colab": {
          "base_uri": "https://localhost:8080/"
        },
        "outputId": "daf7dc5b-4d9d-40c6-fe3a-2f66f8405ec5"
      },
      "source": [
        "import matplotlib.pyplot as plt\n",
        "import numpy as np\n",
        "\n",
        "\n",
        "## Applying SOM into Mnist data\n",
        "from keras.datasets import mnist\n",
        "(x_train, y_train), (x_test, y_test) = mnist.load_data()\n",
        "\n",
        "y_train_origin = y_train\n",
        "\n",
        "width,height=20,20\n",
        "k = np.random.random(size=28*28*width*height)*256\n",
        "k = k.reshape(width,height,28,28)\n",
        "eta = 0.1\n"
      ],
      "execution_count": null,
      "outputs": [
        {
          "output_type": "stream",
          "name": "stdout",
          "text": [
            "Downloading data from https://storage.googleapis.com/tensorflow/tf-keras-datasets/mnist.npz\n",
            "11493376/11490434 [==============================] - 0s 0us/step\n",
            "11501568/11490434 [==============================] - 0s 0us/step\n"
          ]
        }
      ]
    },
    {
      "cell_type": "code",
      "metadata": {
        "colab": {
          "base_uri": "https://localhost:8080/"
        },
        "id": "R30dTv444jV0",
        "outputId": "17acbcc5-bf26-4682-8b2b-146bbdf16df2"
      },
      "source": [
        "x_train[1]"
      ],
      "execution_count": null,
      "outputs": [
        {
          "output_type": "execute_result",
          "data": {
            "text/plain": [
              "array([[  0,   0,   0,   0,   0,   0,   0,   0,   0,   0,   0,   0,   0,\n",
              "          0,   0,   0,   0,   0,   0,   0,   0,   0,   0,   0,   0,   0,\n",
              "          0,   0],\n",
              "       [  0,   0,   0,   0,   0,   0,   0,   0,   0,   0,   0,   0,   0,\n",
              "          0,   0,   0,   0,   0,   0,   0,   0,   0,   0,   0,   0,   0,\n",
              "          0,   0],\n",
              "       [  0,   0,   0,   0,   0,   0,   0,   0,   0,   0,   0,   0,   0,\n",
              "          0,   0,   0,   0,   0,   0,   0,   0,   0,   0,   0,   0,   0,\n",
              "          0,   0],\n",
              "       [  0,   0,   0,   0,   0,   0,   0,   0,   0,   0,   0,   0,   0,\n",
              "          0,   0,   0,   0,   0,   0,   0,   0,   0,   0,   0,   0,   0,\n",
              "          0,   0],\n",
              "       [  0,   0,   0,   0,   0,   0,   0,   0,   0,   0,   0,   0,   0,\n",
              "          0,   0,  51, 159, 253, 159,  50,   0,   0,   0,   0,   0,   0,\n",
              "          0,   0],\n",
              "       [  0,   0,   0,   0,   0,   0,   0,   0,   0,   0,   0,   0,   0,\n",
              "          0,  48, 238, 252, 252, 252, 237,   0,   0,   0,   0,   0,   0,\n",
              "          0,   0],\n",
              "       [  0,   0,   0,   0,   0,   0,   0,   0,   0,   0,   0,   0,   0,\n",
              "         54, 227, 253, 252, 239, 233, 252,  57,   6,   0,   0,   0,   0,\n",
              "          0,   0],\n",
              "       [  0,   0,   0,   0,   0,   0,   0,   0,   0,   0,   0,  10,  60,\n",
              "        224, 252, 253, 252, 202,  84, 252, 253, 122,   0,   0,   0,   0,\n",
              "          0,   0],\n",
              "       [  0,   0,   0,   0,   0,   0,   0,   0,   0,   0,   0, 163, 252,\n",
              "        252, 252, 253, 252, 252,  96, 189, 253, 167,   0,   0,   0,   0,\n",
              "          0,   0],\n",
              "       [  0,   0,   0,   0,   0,   0,   0,   0,   0,   0,  51, 238, 253,\n",
              "        253, 190, 114, 253, 228,  47,  79, 255, 168,   0,   0,   0,   0,\n",
              "          0,   0],\n",
              "       [  0,   0,   0,   0,   0,   0,   0,   0,   0,  48, 238, 252, 252,\n",
              "        179,  12,  75, 121,  21,   0,   0, 253, 243,  50,   0,   0,   0,\n",
              "          0,   0],\n",
              "       [  0,   0,   0,   0,   0,   0,   0,   0,  38, 165, 253, 233, 208,\n",
              "         84,   0,   0,   0,   0,   0,   0, 253, 252, 165,   0,   0,   0,\n",
              "          0,   0],\n",
              "       [  0,   0,   0,   0,   0,   0,   0,   7, 178, 252, 240,  71,  19,\n",
              "         28,   0,   0,   0,   0,   0,   0, 253, 252, 195,   0,   0,   0,\n",
              "          0,   0],\n",
              "       [  0,   0,   0,   0,   0,   0,   0,  57, 252, 252,  63,   0,   0,\n",
              "          0,   0,   0,   0,   0,   0,   0, 253, 252, 195,   0,   0,   0,\n",
              "          0,   0],\n",
              "       [  0,   0,   0,   0,   0,   0,   0, 198, 253, 190,   0,   0,   0,\n",
              "          0,   0,   0,   0,   0,   0,   0, 255, 253, 196,   0,   0,   0,\n",
              "          0,   0],\n",
              "       [  0,   0,   0,   0,   0,   0,  76, 246, 252, 112,   0,   0,   0,\n",
              "          0,   0,   0,   0,   0,   0,   0, 253, 252, 148,   0,   0,   0,\n",
              "          0,   0],\n",
              "       [  0,   0,   0,   0,   0,   0,  85, 252, 230,  25,   0,   0,   0,\n",
              "          0,   0,   0,   0,   0,   7, 135, 253, 186,  12,   0,   0,   0,\n",
              "          0,   0],\n",
              "       [  0,   0,   0,   0,   0,   0,  85, 252, 223,   0,   0,   0,   0,\n",
              "          0,   0,   0,   0,   7, 131, 252, 225,  71,   0,   0,   0,   0,\n",
              "          0,   0],\n",
              "       [  0,   0,   0,   0,   0,   0,  85, 252, 145,   0,   0,   0,   0,\n",
              "          0,   0,   0,  48, 165, 252, 173,   0,   0,   0,   0,   0,   0,\n",
              "          0,   0],\n",
              "       [  0,   0,   0,   0,   0,   0,  86, 253, 225,   0,   0,   0,   0,\n",
              "          0,   0, 114, 238, 253, 162,   0,   0,   0,   0,   0,   0,   0,\n",
              "          0,   0],\n",
              "       [  0,   0,   0,   0,   0,   0,  85, 252, 249, 146,  48,  29,  85,\n",
              "        178, 225, 253, 223, 167,  56,   0,   0,   0,   0,   0,   0,   0,\n",
              "          0,   0],\n",
              "       [  0,   0,   0,   0,   0,   0,  85, 252, 252, 252, 229, 215, 252,\n",
              "        252, 252, 196, 130,   0,   0,   0,   0,   0,   0,   0,   0,   0,\n",
              "          0,   0],\n",
              "       [  0,   0,   0,   0,   0,   0,  28, 199, 252, 252, 253, 252, 252,\n",
              "        233, 145,   0,   0,   0,   0,   0,   0,   0,   0,   0,   0,   0,\n",
              "          0,   0],\n",
              "       [  0,   0,   0,   0,   0,   0,   0,  25, 128, 252, 253, 252, 141,\n",
              "         37,   0,   0,   0,   0,   0,   0,   0,   0,   0,   0,   0,   0,\n",
              "          0,   0],\n",
              "       [  0,   0,   0,   0,   0,   0,   0,   0,   0,   0,   0,   0,   0,\n",
              "          0,   0,   0,   0,   0,   0,   0,   0,   0,   0,   0,   0,   0,\n",
              "          0,   0],\n",
              "       [  0,   0,   0,   0,   0,   0,   0,   0,   0,   0,   0,   0,   0,\n",
              "          0,   0,   0,   0,   0,   0,   0,   0,   0,   0,   0,   0,   0,\n",
              "          0,   0],\n",
              "       [  0,   0,   0,   0,   0,   0,   0,   0,   0,   0,   0,   0,   0,\n",
              "          0,   0,   0,   0,   0,   0,   0,   0,   0,   0,   0,   0,   0,\n",
              "          0,   0],\n",
              "       [  0,   0,   0,   0,   0,   0,   0,   0,   0,   0,   0,   0,   0,\n",
              "          0,   0,   0,   0,   0,   0,   0,   0,   0,   0,   0,   0,   0,\n",
              "          0,   0]], dtype=uint8)"
            ]
          },
          "metadata": {},
          "execution_count": 8
        }
      ]
    },
    {
      "cell_type": "code",
      "metadata": {
        "colab": {
          "base_uri": "https://localhost:8080/",
          "height": 266
        },
        "id": "jM4SjftL4tY9",
        "outputId": "62e9a2dc-812e-44b0-a05d-9c729f51fa62"
      },
      "source": [
        "import matplotlib.pyplot as plt\n",
        "\n",
        "plt.imshow(x_train[1].astype(int),cmap=plt.get_cmap('gray_r'))\n",
        "plt.show()"
      ],
      "execution_count": null,
      "outputs": [
        {
          "output_type": "display_data",
          "data": {
            "image/png": "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\n",
            "text/plain": [
              "<Figure size 432x288 with 1 Axes>"
            ]
          },
          "metadata": {
            "needs_background": "light"
          }
        }
      ]
    },
    {
      "cell_type": "code",
      "metadata": {
        "id": "ONPHYqYOnCc_"
      },
      "source": [
        "import random\n",
        "\n",
        "for i in range(2000000):\n",
        "  x_id = (int)(random.random()*len(x_train))\n",
        "  d=np.asarray([np.sum((x_train[x_id]-k[i][j])**2) for i in range(width) for j in range(height)])\n",
        "  winner = np.argmin(d)\n",
        "  w = winner//width,winner%width\n",
        "  k[w[0],w[1]] = k[w[0],w[1]]+eta*(x_train[x_id]-k[w[0],w[1]])\n",
        "  eta_n = eta*0.3\n",
        "  if w[0]-1 >= 0:\n",
        "      k[w[0]-1,w[1]] = k[w[0]-1,w[1]]+eta_n*(x_train[x_id]-k[w[0]-1,w[1]])\n",
        "  if w[0]+1 < width:\n",
        "      k[w[0]+1,w[1]] = k[w[0]+1,w[1]]+eta_n*(x_train[x_id]-k[w[0]+1,w[1]])\n",
        "  if w[1]-1 >= 0:\n",
        "      k[w[0],w[1]-1] = k[w[0],w[1]-1]+eta_n*(x_train[x_id]-k[w[0],w[1]-1])\n",
        "  if w[1]+1 < height:\n",
        "      k[w[0],w[1]+1] = k[w[0],w[1]+1]+eta_n*(x_train[x_id]-k[w[0],w[1]+1])\n",
        "  if(i%1000 == 0):\n",
        "      print('.',end='')"
      ],
      "execution_count": null,
      "outputs": []
    },
    {
      "cell_type": "code",
      "metadata": {
        "id": "aMIXlBOMqixz",
        "colab": {
          "base_uri": "https://localhost:8080/",
          "height": 344
        },
        "outputId": "ae7fb311-1b16-40b8-b6b8-3ce860b7a4a7"
      },
      "source": [
        "new_x_train = []\n",
        "\n",
        "for ii in range(len(x_train)):\n",
        "  d=np.asarray([np.sum((x_train[ii]-k[i][j])**2) for i in range(width) for j in range(height)])\n",
        "  winner = np.argmin(d)\n",
        "  w = winner//width,winner%width\n",
        "  new_x_train.append([w[0],w[1]])\n",
        "\n",
        "new_x_train = np.array(new_x_train)"
      ],
      "execution_count": null,
      "outputs": []
       
    },
    {
      "cell_type": "code",
      "metadata": {
        "colab": {
          "base_uri": "https://localhost:8080/"
        },
        "id": "53PLy7V14XZ4",
        "outputId": "402ec775-8b4c-4b29-9343-30166a4d30c7"
      },
      "source": [
        "new_x_train[:10]"
      ],
      "execution_count": null,
      "outputs": [
        {
          "output_type": "execute_result",
          "data": {
            "text/plain": [
              "[[6, 14],\n",
              " [13, 6],\n",
              " [8, 5],\n",
              " [1, 11],\n",
              " [7, 9],\n",
              " [2, 6],\n",
              " [0, 19],\n",
              " [11, 12],\n",
              " [1, 17],\n",
              " [8, 10]]"
            ]
          },
          "metadata": {},
          "execution_count": 4
        }
      ]
    },
    {
      "cell_type": "code",
      "metadata": {
        "id": "_WE0eKf7syED"
      },
      "source": [
        "new_x_test = []\n",
        "\n",
        "for ii in range(len(x_test)):\n",
        "  d=np.asarray([np.sum((x_test[ii]-k[i][j])**2) for i in range(width) for j in range(height)])\n",
        "  winner = np.argmin(d)\n",
        "  w = winner//width,winner%width\n",
        "  new_x_test.append([w[0],w[1]])\n",
        "\n",
        "new_x_test = np.array(new_x_test)"
      ],
      "execution_count": null,
      "outputs": []
    },
    {
      "cell_type": "code",
      "metadata": {
        "id": "fT5Er6cOdATf"
      },
      "source": [
        "import pandas as pd\n",
        "\n",
        "df=pd.DataFrame(columns=['id','i','j','class'])\n",
        "\n",
        "for i in range(len(new_x_train)):\n",
        "  rec = dict()\n",
        "  rec['id'] = i\n",
        "  rec['i'] = new_x_train[i][0]\n",
        "  rec['j'] = new_x_train[i][1]\n",
        "  rec['class'] = y_train_origin[i]\n",
        "  df=df.append(rec,ignore_index=True)\n",
        "\n",
        "df.to_csv('som_out.csv')"
      ],
      "execution_count": null,
      "outputs": []
    },
    {
      "cell_type": "code",
      "metadata": {
        "id": "tme6Zk0y57IA"
      },
      "source": [
        "df.head()"
      ],
      "execution_count": null,
      "output_type": "execute_result",
          "data": {
            "text/plain": [
              "  id   i   j class\n",
              "0  0   1  15     5\n",
              "1  1  18  11     0\n",
              "2  2  13   8     4\n",
              "3  3   7  17     1\n",
              "4  4  10   2     9"
      ]
    },
    {
      "cell_type": "code",
      "metadata": {
        "id": "bvHHCPFHvMRc",
        "colab": {
          "base_uri": "https://localhost:8080/",
          "height": 266
        },
        "outputId": "4247b56b-8de7-474d-f7dd-fa07e2de8c27"
      },
      "source": [
        "import matplotlib.pyplot as plt\n",
        "\n",
        "plt.imshow(k[13][6].astype(int),cmap=plt.get_cmap('gray_r'))\n",
        "plt.show()"
      ],
      "execution_count": null,
      "outputs": [
        {
          "output_type": "display_data",
          "data": {
            "image/png": "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\n",
            "text/plain": [
              "<Figure size 432x288 with 1 Axes>"
            ]
          },
          "metadata": {
            "needs_background": "light"
          }
        }
      ]
    },
    {
      "cell_type": "markdown",
      "metadata": {
        "id": "b-CUk9b80D5S"
      },
      "source": [
        "# CNN"
      ]
    },
    {
      "cell_type": "code",
      "metadata": {
        "id": "ALXztP1UsrRT"
      },
      "source": [
        "from __future__ import print_function\n",
        "import keras\n",
        "from keras.datasets import mnist\n",
        "from keras.models import Sequential\n",
        "from keras.layers import Dense, Dropout, Flatten\n",
        "from keras.layers import Conv2D, MaxPooling2D\n",
        "from keras import backend as K\n",
        "\n",
        "y_train = keras.utils.to_categorical(y_train, 10)\n",
        "y_test = keras.utils.to_categorical(y_test, 10)"
      ],
      "execution_count": null,
      "outputs": []
    },
    {
      "cell_type": "code",
      "metadata": {
        "id": "65SMKtn6sgMg",
        "colab": {
          "base_uri": "https://localhost:8080/",
          "height": 51
        },
        "outputId": "85797de5-9dee-4adc-dadc-2f9701060eca"
      },
      "source": [
        "batch_size = 500\n",
        "num_classes = 10\n",
        "epochs = 500\n",
        "\n",
        "model = Sequential()\n",
        "model.add(Dense(2, activation='linear'))\n",
        "model.add(Dense(50, activation='sigmoid'))\n",
        "model.add(Dense(num_classes, activation='softmax'))\n",
        "\n",
        "model.compile(loss=keras.losses.categorical_crossentropy,\n",
        "              optimizer=keras.optimizers.Adadelta(),\n",
        "              metrics=['accuracy'])\n",
        "\n",
        "model.fit(new_x_train,y_train, \n",
        "          batch_size=batch_size,\n",
        "          epochs=epochs,\n",
        "          verbose=0,\n",
        "          validation_split=0.1)\n",
        "score = model.evaluate(new_x_test, y_test, verbose=0)\n",
        "print('Test loss:', score[0])\n",
        "print('Test accuracy:', score[1])"
      ],
      "execution_count": null,
      "outputs": [
        {
          "output_type": "stream",
          "text": [
            "Test loss: 0.4846285103559494\n",
            "Test accuracy: 0.8708999752998352\n"
          ],
          "name": "stdout"
        }
      ]
    },
    {
      "cell_type": "code",
      "metadata": {
        "id": "teQzxY5-0jCb"
      },
      "source": [],
      "execution_count": null,
      "outputs": []
    }
  ]
}
